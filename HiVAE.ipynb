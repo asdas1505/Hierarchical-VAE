{
 "cells": [
  {
   "cell_type": "code",
   "execution_count": 1,
   "metadata": {
    "collapsed": true
   },
   "outputs": [],
   "source": [
    "import numpy as np\n",
    "import torch \n",
    "import torch.nn as nn\n",
    "from torch import nn, optim\n",
    "from torch.autograd import Variable\n",
    "from torch.nn import functional as F\n",
    "from torchvision import datasets, transforms\n",
    "import os "
   ]
  },
  {
   "cell_type": "code",
   "execution_count": 2,
   "metadata": {
    "collapsed": true
   },
   "outputs": [],
   "source": [
    "bs = 1024\n",
    "# MNIST Dataset\n",
    "train_dataset = datasets.MNIST(root='./mnist_data/', train=True, transform=transforms.ToTensor(), download=True)\n",
    "test_dataset = datasets.MNIST(root='./mnist_data/', train=False, transform=transforms.ToTensor(), download=False)\n",
    "\n",
    "# Data Loader (Input Pipeline)\n",
    "train_loader = torch.utils.data.DataLoader(dataset=train_dataset, batch_size=bs, shuffle=True)\n",
    "test_loader = torch.utils.data.DataLoader(dataset=test_dataset, batch_size=bs, shuffle=False)"
   ]
  },
  {
   "cell_type": "code",
   "execution_count": 3,
   "metadata": {
    "collapsed": false
   },
   "outputs": [
    {
     "data": {
      "text/plain": [
       "device(type='cuda')"
      ]
     },
     "execution_count": 3,
     "metadata": {},
     "output_type": "execute_result"
    }
   ],
   "source": [
    "device = torch.device('cuda' if torch.cuda.is_available() else 'cpu')\n",
    "device"
   ]
  },
  {
   "cell_type": "code",
   "execution_count": 4,
   "metadata": {
    "collapsed": false
   },
   "outputs": [],
   "source": [
    "def get_model_parameters(model):\n",
    "    latent = True\n",
    "    encoder_params = []\n",
    "    decoder_params = []\n",
    "    for param in model.parameters():\n",
    "        if len(param.shape) == 2:\n",
    "            if param.shape[1] == model.param_split:\n",
    "                latent = False\n",
    "        if latent:\n",
    "            encoder_params.append(param)\n",
    "        else:\n",
    "            decoder_params.append(param)\n",
    "    all_params = encoder_params + decoder_params\n",
    "\n",
    "    return all_params, encoder_params, decoder_params\n",
    "\n",
    "def grad_switch(params, grad_bool=False):\n",
    "    for param in params:\n",
    "        param.requires_grad = grad_bool"
   ]
  },
  {
   "cell_type": "code",
   "execution_count": null,
   "metadata": {
    "collapsed": true
   },
   "outputs": [],
   "source": []
  },
  {
   "cell_type": "code",
   "execution_count": 5,
   "metadata": {
    "collapsed": true
   },
   "outputs": [],
   "source": [
    "class PHI(nn.Module):\n",
    "    def __init__(self):\n",
    "        super(PHI, self).__init__()\n",
    "        self.mu_e1_p = nn.Parameter()\n",
    "        self.logvar_e1_p = nn.Parameter()\n",
    "\n",
    "        self.mu_e2_p = nn.Parameter()\n",
    "        self.logvar_e2_p = nn.Parameter()\n",
    "\n",
    "#         self.mu_d1_p = nn.Parameter()\n",
    "#         self.logvar_d1_p = nn.Parameter()\n",
    "\n",
    "        self.mu_e1 = 0\n",
    "        self.logvar_e1 = 0\n",
    "\n",
    "        self.mu_e2 = 0\n",
    "        self.logvar_e2 = 0\n",
    "        \n",
    "#         self.mu_d1 = 0\n",
    "#         self.logvar_d1 = 0"
   ]
  },
  {
   "cell_type": "code",
   "execution_count": 47,
   "metadata": {
    "collapsed": true
   },
   "outputs": [],
   "source": [
    "class iHVAE(nn.Module):\n",
    "    def __init__(self, z2_dim=10, z1_dim=20, n_iters = 20, eval_iters=500):\n",
    "        super(iHVAE, self).__init__()\n",
    "        \n",
    "        self.latent_space_size1 = z1_dim\n",
    "        self.latent_space_size2 = z2_dim\n",
    "        \n",
    "        self.param_split = z2_dim\n",
    "        \n",
    "        self.n_iters = n_iters\n",
    "        self.eval_iters = eval_iters\n",
    "        \n",
    "        ## Encoder 1\n",
    "        self.e1fc1 = nn.Linear(784, 512)\n",
    "        self.e1fc2 = nn.Linear(512, 256)\n",
    "        ## mu1 and logvar1\n",
    "        self.e1fc4 = nn.Linear(256, z1_dim)\n",
    "        self.e1fc5 = nn.Linear(256, z1_dim)\n",
    "        \n",
    "        ## Encoder 2\n",
    "        self.e2fc1 = nn.Linear(z1_dim, 256)\n",
    "        self.e2fc2 = nn.Linear(256, 128)\n",
    "        ## mu2 and logvar2\n",
    "        self.e2fc4 = nn.Linear(128, z2_dim)\n",
    "        self.e2fc5 = nn.Linear(128, z2_dim)\n",
    "        \n",
    "        ## Decoder 2\n",
    "        self.d2fc1 = nn.Linear(z2_dim, 128)\n",
    "        self.d2fc2 = nn.Linear(128, 256)\n",
    "        ## d_mu1 and d_logvar1\n",
    "        self.d2fc4 = nn.Linear(256, z1_dim)\n",
    "        self.d2fc5 = nn.Linear(256, z1_dim)\n",
    "\n",
    "        ## Decoder 1\n",
    "        self.d1fc1 = nn.Linear(z1_dim, 256)\n",
    "        self.d1fc2 = nn.Linear(256, 512)\n",
    "        self.d1fc4 = nn.Linear(512, 784)\n",
    "    \n",
    "    def encoder1(self, x):\n",
    "        x = F.relu(self.e1fc1(x))\n",
    "        x = F.relu(self.e1fc2(x))\n",
    "        \n",
    "        mu1 = self.e1fc4(x)\n",
    "        logvar1 = self.e1fc5(x)\n",
    "        \n",
    "        return mu1, logvar1\n",
    "\n",
    "    def encoder2(self, z2):\n",
    "        z2 = F.relu(self.e2fc1(z2))\n",
    "        z2 = F.relu(self.e2fc2(z2))\n",
    "        \n",
    "        mu2 = self.e2fc4(z2)\n",
    "        logvar2 = self.e2fc5(z2)\n",
    "        \n",
    "        return mu2, logvar2\n",
    "\n",
    "    def decoder2(self, z2):\n",
    "        z1_rec = F.relu(self.d2fc1(z2))\n",
    "        z1_rec = F.relu(self.d2fc2(z1_rec))\n",
    "        \n",
    "        d_mu1 = self.d2fc4(z1_rec)\n",
    "        d_logvar1 = self.d2fc5(z1_rec)\n",
    "        \n",
    "        return d_mu1, d_logvar1\n",
    "\n",
    "    def decoder1(self, z1):\n",
    "        x_rec = F.relu(self.d1fc1(z1))\n",
    "        x_rec = F.relu(self.d1fc2(x_rec))\n",
    "        x_rec = self.d1fc4(x_rec)\n",
    "        return x_rec\n",
    "\n",
    "    def r_sampling(self, mu, logvar): \n",
    "        epsilon = torch.randn_like(mu)\n",
    "        var = torch.exp(0.5*logvar)\n",
    "        z = var.mul(epsilon).add(mu)\n",
    "        return z, epsilon   \n",
    "    \n",
    "    def forward(self, x):\n",
    "        phi = PHI()\n",
    "        \n",
    "        phi.mu_e1_p.data, phi.logvar_e1_p.data = self.encoder1(x)    \n",
    "        \n",
    "        optim_infer = torch.optim.Adam(phi.parameters(), lr=1e-2)\n",
    "        inference_params = list(phi.parameters())\n",
    "        \n",
    "        \n",
    "        grad_switch(inference_params, grad_bool=True)\n",
    "        for infer_iter in range(self.n_iters):\n",
    "            optim_infer.zero_grad()\n",
    "            _, _, _, total_loss = self.iter_inference(x, phi)\n",
    "            optim_infer.step()\n",
    "        grad_switch(inference_params, grad_bool=False)\n",
    "                \n",
    "        return phi\n",
    "    \n",
    "    def forward_evaluate(self, x):\n",
    "        phi = PHI()\n",
    "        \n",
    "        phi.mu_e1_p.data, phi.logvar_e1_p.data = self.encoder1(x)    \n",
    "        \n",
    "        optim_infer = torch.optim.Adam(phi.parameters(), lr=1e-3)\n",
    "        inference_params = list(phi.parameters())\n",
    "        \n",
    "        \n",
    "        grad_switch(inference_params, grad_bool=True)\n",
    "        for infer_iter in range(self.eval_iters):\n",
    "            optim_infer.zero_grad()\n",
    "            _, _, _, total_loss = self.iter_inference(x, phi)\n",
    "            optim_infer.step()\n",
    "        grad_switch(inference_params, grad_bool=False)\n",
    "                \n",
    "        return phi\n",
    "            \n",
    "    def iter_inference(self, x, phi=None, mu=None, logvar=None, decoder=True, evaluate=False):\n",
    "        if phi is not None:\n",
    "            if decoder:\n",
    "                mu, logvar = phi.mu_e1_p, phi.logvar_e1_p\n",
    "                \n",
    "        z1_sample, e_eps1 = self.r_sampling(mu, logvar)\n",
    "        \n",
    "        mu2, logvar2 = self.encoder2(z1_sample)\n",
    "        if decoder:\n",
    "            phi.mu_e2_p.data, phi.logvar_e2_p.data = mu2, logvar2\n",
    "            \n",
    "        z2_sample, e_eps2 = self.r_sampling(mu2, logvar2)\n",
    "        \n",
    "        mu_d1, logvar_d1 = self.decoder2(z2_sample)\n",
    "        z1_rec_sample, d_eps1 = self.r_sampling(mu_d1, logvar_d1)\n",
    "        \n",
    "        x_rec = self.decoder1(z1_sample)\n",
    "        \n",
    "        z2_var_params = (mu2, logvar2, e_eps2) \n",
    "        z1_var_params = (mu, logvar, e_eps1) \n",
    "        d_z1_var_params = (mu_d1, logvar_d1, d_eps1)\n",
    "        \n",
    "        total_loss = hvae_loss(x, x_rec, z2_var_params, z1_var_params, d_z1_var_params)\n",
    "        total_loss.backward()\n",
    "        \n",
    "        return x_rec, z1_sample, z2_sample, total_loss"
   ]
  },
  {
   "cell_type": "code",
   "execution_count": 48,
   "metadata": {
    "collapsed": true
   },
   "outputs": [],
   "source": [
    "def hvae_loss(x, x_rec, z2_var_params, z1_var_params, d_z1_var_params):\n",
    "    \"\"\"\n",
    "    Working:\n",
    "    Expanding the log of Normal distribution and expanding it in terms of z1 and z2\n",
    "    \"\"\"\n",
    "    REC_ERROR = F.binary_cross_entropy(torch.sigmoid(x_rec), x, reduction='sum')    \n",
    "    \n",
    "    mu2, logvar2, epsilon2 = z2_var_params\n",
    "    mu1, logvar1, epsilon1 = z1_var_params\n",
    "    d_mu1, d_logvar1, d_epsilon1 = d_z1_var_params\n",
    "    \n",
    "    log_q_z1_x = torch.sum(-0.5*(epsilon1**2) - 0.5*logvar1, dim=-1)\n",
    "    log_q_z2_z1 = torch.sum(-0.5*(epsilon2**2) - 0.5*logvar2, dim=-1)\n",
    "    \n",
    "    z2 = torch.exp(0.5*logvar2).mul(epsilon2).add(mu2)\n",
    "    z1 = torch.exp(0.5*logvar1).mul(epsilon1).add(mu1)\n",
    "    dvar1 = torch.exp(0.5*d_logvar1)\n",
    "    \n",
    "    log_p_z2 = torch.sum(-0.5*(z2**2), dim=-1)\n",
    "    log_p_z1_z2 = torch.sum(-0.5*(((z1-d_mu1)/dvar1)**2) - 0.5*d_logvar1, dim=-1)\n",
    "\n",
    "    ERROR_TERM2 = torch.mean(torch.sum(log_q_z1_x - log_p_z1_z2, axis=0))\n",
    "    ERROR_TERM3 = torch.mean(torch.sum(log_q_z2_z1 - log_p_z2, axis=0))\n",
    "    \n",
    "    return REC_ERROR + ERROR_TERM2 + ERROR_TERM3"
   ]
  },
  {
   "cell_type": "code",
   "execution_count": 49,
   "metadata": {
    "collapsed": true
   },
   "outputs": [],
   "source": [
    "def evaluate(model, data):\n",
    "    model.eval()\n",
    "    \n",
    "    phi = model(data)\n",
    "    \n",
    "    z1_sample, e_eps1 = model.r_sampling(phi.mu_e1_p, phi.logvar_e1_p)\n",
    "    z2_sample, e_eps2 = model.r_sampling(phi.mu_e2_p, phi.logvar_e2_p)\n",
    "    mu_d1, logvar_d1 = model.decoder2(z2_sample)\n",
    "    d_z1_sample, d_eps1 = model.r_sampling(mu_d1, logvar_d1)\n",
    "    \n",
    "    x_rec = model.decoder1(z1_sample)\n",
    "\n",
    "    z2_var_params = (phi.mu_e2_p, phi.logvar_e2_p, e_eps2) \n",
    "    z1_var_params = (phi.mu_e1_p, phi.logvar_e1_p, e_eps1) \n",
    "    d_z1_var_params = (mu_d1, logvar_d1, d_eps1)\n",
    "\n",
    "    \n",
    "    total_loss = hvae_loss(data, x_rec, z2_var_params, z1_var_params, d_z1_var_params)\n",
    "    \n",
    "    return total_loss"
   ]
  },
  {
   "cell_type": "code",
   "execution_count": 53,
   "metadata": {
    "collapsed": true
   },
   "outputs": [],
   "source": [
    "z1 = 20\n",
    "z2 = 10\n",
    "model = iHVAE(z1_dim=z1, z2_dim=z2).to(device)\n",
    "optimizer_iHVAE = torch.optim.Adam(model.parameters(), lr=1e-3)"
   ]
  },
  {
   "cell_type": "code",
   "execution_count": null,
   "metadata": {
    "collapsed": true
   },
   "outputs": [],
   "source": []
  },
  {
   "cell_type": "code",
   "execution_count": 54,
   "metadata": {
    "collapsed": true
   },
   "outputs": [],
   "source": [
    "def train_iHVAE(epoch):\n",
    "    model.train()\n",
    "    total_loss = 0\n",
    "    all_params, encoder_params, decoder_params = get_model_parameters(model)\n",
    "    for idx, (X_train, y_train) in enumerate(train_loader):\n",
    "        grad_switch(all_params, grad_bool=False)\n",
    "        \n",
    "        X_train = torch.flatten(X_train, start_dim=1).to(device)\n",
    "        phi = model(X_train)\n",
    "\n",
    "        # Updating decoding paramters\n",
    "        grad_switch(decoder_params, grad_bool=True)\n",
    "        optimizer_iHVAE.zero_grad()\n",
    "        model.iter_inference(X_train, phi)\n",
    "        optimizer_iHVAE.step()\n",
    "        grad_switch(decoder_params, grad_bool=False)\n",
    "\n",
    "        # Updating encoding paramters\n",
    "        grad_switch(encoder_params, grad_bool=True)\n",
    "        optimizer_iHVAE.zero_grad()\n",
    "        \n",
    "        mu1, logvar1 = model.encoder1(X_train)\n",
    "#         z1_train = model.r_sampling(mu1, logvar1)\n",
    "        \n",
    "#         mu2, logvar2 = model.encoder2(z1_train)\n",
    "#         z2_train = model.r_sampling(mu2, logvar2)\n",
    "        \n",
    "#         mu_params = mu1, mu2\n",
    "#         logvar_params = (logvar1, logvar2)\n",
    "        \n",
    "        model.iter_inference(X_train, phi=phi, mu=mu1, logvar=logvar1, decoder=False)\n",
    "        optimizer_iHVAE.step()\n",
    "        grad_switch(encoder_params, grad_bool=False)\n",
    "        \n",
    "        loss = evaluate(model, X_train)\n",
    "        total_loss+=loss\n",
    "    total_loss/=(len(train_loader.dataset))\n",
    "    print('For epoch {}, loss is {}'.format(epoch+1, total_loss))"
   ]
  },
  {
   "cell_type": "code",
   "execution_count": 55,
   "metadata": {
    "collapsed": false,
    "scrolled": true
   },
   "outputs": [
    {
     "name": "stdout",
     "output_type": "stream",
     "text": [
      "For epoch 1, loss is 217.78463745117188\n",
      "For epoch 2, loss is 164.1765594482422\n",
      "For epoch 3, loss is 139.84654235839844\n",
      "For epoch 4, loss is 128.6719970703125\n",
      "For epoch 5, loss is 122.36369323730469\n",
      "For epoch 6, loss is 118.04949951171875\n",
      "For epoch 7, loss is 115.13134765625\n",
      "For epoch 8, loss is 112.88336944580078\n",
      "For epoch 9, loss is 111.08975219726562\n",
      "For epoch 10, loss is 109.66781616210938\n",
      "For epoch 11, loss is 108.46359252929688\n",
      "For epoch 12, loss is 107.44914245605469\n",
      "For epoch 13, loss is 106.4971694946289\n",
      "For epoch 14, loss is 105.68930053710938\n",
      "For epoch 15, loss is 104.96714782714844\n",
      "For epoch 16, loss is 104.34489440917969\n",
      "For epoch 17, loss is 103.82469940185547\n",
      "For epoch 18, loss is 103.3002700805664\n",
      "For epoch 19, loss is 102.8399658203125\n",
      "For epoch 20, loss is 102.47148132324219\n",
      "For epoch 21, loss is 102.05291748046875\n",
      "For epoch 22, loss is 101.69425964355469\n",
      "For epoch 23, loss is 101.37762451171875\n",
      "For epoch 24, loss is 101.0532455444336\n",
      "For epoch 25, loss is 100.77490234375\n",
      "For epoch 26, loss is 100.52049255371094\n",
      "For epoch 27, loss is 100.2599868774414\n",
      "For epoch 28, loss is 99.98601531982422\n",
      "For epoch 29, loss is 99.81369018554688\n",
      "For epoch 30, loss is 99.58164978027344\n",
      "For epoch 31, loss is 99.32460021972656\n",
      "For epoch 32, loss is 99.16442108154297\n",
      "For epoch 33, loss is 98.99652862548828\n",
      "For epoch 34, loss is 98.79287719726562\n",
      "For epoch 35, loss is 98.59613800048828\n",
      "For epoch 36, loss is 98.43241882324219\n",
      "For epoch 37, loss is 98.27241516113281\n",
      "For epoch 38, loss is 98.10980987548828\n",
      "For epoch 39, loss is 97.91853332519531\n",
      "For epoch 40, loss is 97.79589080810547\n",
      "For epoch 41, loss is 97.65451049804688\n",
      "For epoch 42, loss is 97.55500030517578\n",
      "For epoch 43, loss is 97.40558624267578\n",
      "For epoch 44, loss is 97.33012390136719\n",
      "For epoch 45, loss is 97.19187927246094\n",
      "For epoch 46, loss is 97.04021453857422\n",
      "For epoch 47, loss is 96.93959045410156\n",
      "For epoch 48, loss is 96.86433410644531\n",
      "For epoch 49, loss is 96.70606231689453\n",
      "For epoch 50, loss is 96.59569549560547\n",
      "For epoch 51, loss is 96.54647827148438\n",
      "For epoch 52, loss is 96.41780853271484\n",
      "For epoch 53, loss is 96.307861328125\n",
      "For epoch 54, loss is 96.22105407714844\n",
      "For epoch 55, loss is 96.16123962402344\n",
      "For epoch 56, loss is 96.0728759765625\n",
      "For epoch 57, loss is 95.98271179199219\n",
      "For epoch 58, loss is 95.89835357666016\n",
      "For epoch 59, loss is 95.79051208496094\n",
      "For epoch 60, loss is 95.78863525390625\n",
      "For epoch 61, loss is 95.73607635498047\n",
      "For epoch 62, loss is 95.60987091064453\n",
      "For epoch 63, loss is 95.54920196533203\n",
      "For epoch 64, loss is 95.481689453125\n",
      "For epoch 65, loss is 95.3794174194336\n",
      "For epoch 66, loss is 95.35631561279297\n",
      "For epoch 67, loss is 95.30928802490234\n",
      "For epoch 68, loss is 95.1894760131836\n",
      "For epoch 69, loss is 95.12627410888672\n",
      "For epoch 70, loss is 95.08995056152344\n",
      "For epoch 71, loss is 95.00387573242188\n",
      "For epoch 72, loss is 94.97660064697266\n",
      "For epoch 73, loss is 94.92274475097656\n",
      "For epoch 74, loss is 94.86962890625\n",
      "For epoch 75, loss is 94.81104278564453\n",
      "For epoch 76, loss is 94.7583999633789\n",
      "For epoch 77, loss is 94.67430877685547\n",
      "For epoch 78, loss is 94.69230651855469\n",
      "For epoch 79, loss is 94.55841827392578\n",
      "For epoch 80, loss is 94.49562072753906\n",
      "For epoch 81, loss is 94.4592514038086\n",
      "For epoch 82, loss is 94.4290771484375\n",
      "For epoch 83, loss is 94.32311248779297\n",
      "For epoch 84, loss is 94.31802368164062\n",
      "For epoch 85, loss is 94.2840347290039\n",
      "For epoch 86, loss is 94.23590087890625\n",
      "For epoch 87, loss is 94.18511199951172\n",
      "For epoch 88, loss is 94.09748077392578\n",
      "For epoch 89, loss is 94.07648468017578\n",
      "For epoch 90, loss is 94.05448913574219\n",
      "For epoch 91, loss is 94.01578521728516\n",
      "For epoch 92, loss is 93.97066497802734\n",
      "For epoch 93, loss is 93.9361572265625\n",
      "For epoch 94, loss is 93.86279296875\n",
      "For epoch 95, loss is 93.81932830810547\n",
      "For epoch 96, loss is 93.8128890991211\n",
      "For epoch 97, loss is 93.79906463623047\n",
      "For epoch 98, loss is 93.75381469726562\n",
      "For epoch 99, loss is 93.71817779541016\n",
      "For epoch 100, loss is 93.68109893798828\n",
      "For epoch 101, loss is 93.67166137695312\n",
      "For epoch 102, loss is 93.60407257080078\n",
      "For epoch 103, loss is 93.55074310302734\n",
      "For epoch 104, loss is 93.52657318115234\n",
      "For epoch 105, loss is 93.49193572998047\n",
      "For epoch 106, loss is 93.47774505615234\n",
      "For epoch 107, loss is 93.43108367919922\n",
      "For epoch 108, loss is 93.39379119873047\n",
      "For epoch 109, loss is 93.33769989013672\n",
      "For epoch 110, loss is 93.33660125732422\n",
      "For epoch 111, loss is 93.31343078613281\n",
      "For epoch 112, loss is 93.28807830810547\n",
      "For epoch 113, loss is 93.26128387451172\n",
      "For epoch 114, loss is 93.27196502685547\n",
      "For epoch 115, loss is 93.21830749511719\n",
      "For epoch 116, loss is 93.18526458740234\n",
      "For epoch 117, loss is 93.16204071044922\n",
      "For epoch 118, loss is 93.15868377685547\n",
      "For epoch 119, loss is 93.1474380493164\n",
      "For epoch 120, loss is 93.11893463134766\n",
      "For epoch 121, loss is 93.050537109375\n",
      "For epoch 122, loss is 93.03974151611328\n",
      "For epoch 123, loss is 93.06429290771484\n",
      "For epoch 124, loss is 93.00641632080078\n",
      "For epoch 125, loss is 92.98471069335938\n",
      "For epoch 126, loss is 92.92437744140625\n",
      "For epoch 127, loss is 92.96442413330078\n",
      "For epoch 128, loss is 92.87244415283203\n",
      "For epoch 129, loss is 92.84738159179688\n",
      "For epoch 130, loss is 92.82777404785156\n",
      "For epoch 131, loss is 92.77955627441406\n",
      "For epoch 132, loss is 92.77202606201172\n",
      "For epoch 133, loss is 92.80125427246094\n",
      "For epoch 134, loss is 92.70697784423828\n",
      "For epoch 135, loss is 92.7226791381836\n",
      "For epoch 136, loss is 92.68083190917969\n",
      "For epoch 137, loss is 92.69947814941406\n",
      "For epoch 138, loss is 92.68243408203125\n",
      "For epoch 139, loss is 92.68408203125\n",
      "For epoch 140, loss is 92.65657806396484\n",
      "For epoch 141, loss is 92.6070556640625\n",
      "For epoch 142, loss is 92.60870361328125\n",
      "For epoch 143, loss is 92.58012390136719\n",
      "For epoch 144, loss is 92.55725860595703\n",
      "For epoch 145, loss is 92.55168914794922\n",
      "For epoch 146, loss is 92.50588989257812\n",
      "For epoch 147, loss is 92.51819610595703\n",
      "For epoch 148, loss is 92.50939178466797\n",
      "For epoch 149, loss is 92.48611450195312\n",
      "For epoch 150, loss is 92.4667739868164\n",
      "For epoch 151, loss is 92.46469116210938\n",
      "For epoch 152, loss is 92.4610595703125\n",
      "For epoch 153, loss is 92.45458221435547\n",
      "For epoch 154, loss is 92.40080261230469\n",
      "For epoch 155, loss is 92.41280364990234\n",
      "For epoch 156, loss is 92.3642349243164\n",
      "For epoch 157, loss is 92.3568344116211\n",
      "For epoch 158, loss is 92.40184783935547\n",
      "For epoch 159, loss is 92.40410614013672\n",
      "For epoch 160, loss is 92.35041809082031\n",
      "For epoch 161, loss is 92.30020904541016\n",
      "For epoch 162, loss is 92.30933380126953\n",
      "For epoch 163, loss is 92.26826477050781\n",
      "For epoch 164, loss is 92.26798248291016\n",
      "For epoch 165, loss is 92.26612854003906\n",
      "For epoch 166, loss is 92.27120971679688\n",
      "For epoch 167, loss is 92.24920654296875\n",
      "For epoch 168, loss is 92.266357421875\n",
      "For epoch 169, loss is 92.26494598388672\n",
      "For epoch 170, loss is 92.22854614257812\n",
      "For epoch 171, loss is 92.24984741210938\n",
      "For epoch 172, loss is 92.20409393310547\n",
      "For epoch 173, loss is 92.23226928710938\n",
      "For epoch 174, loss is 92.19950866699219\n",
      "For epoch 175, loss is 92.18085479736328\n",
      "For epoch 176, loss is 92.2175521850586\n",
      "For epoch 177, loss is 92.2175521850586\n",
      "For epoch 178, loss is 92.15459442138672\n",
      "For epoch 179, loss is 92.18144226074219\n",
      "For epoch 180, loss is 92.20684051513672\n",
      "For epoch 181, loss is 92.14260864257812\n",
      "For epoch 182, loss is 92.15394592285156\n",
      "For epoch 183, loss is 92.14865112304688\n",
      "For epoch 184, loss is 92.15939331054688\n",
      "For epoch 185, loss is 92.12963104248047\n",
      "For epoch 186, loss is 92.16148376464844\n",
      "For epoch 187, loss is 92.12380981445312\n",
      "For epoch 188, loss is 92.08721160888672\n",
      "For epoch 189, loss is 92.12145233154297\n",
      "For epoch 190, loss is 92.07191467285156\n",
      "For epoch 191, loss is 92.11162567138672\n",
      "For epoch 192, loss is 92.10558319091797\n",
      "For epoch 193, loss is 92.041015625\n",
      "For epoch 194, loss is 92.08465576171875\n",
      "For epoch 195, loss is 92.0484619140625\n",
      "For epoch 196, loss is 92.03573608398438\n",
      "For epoch 197, loss is 92.01119995117188\n",
      "For epoch 198, loss is 92.04359436035156\n",
      "For epoch 199, loss is 92.04214477539062\n",
      "For epoch 200, loss is 92.00218963623047\n"
     ]
    }
   ],
   "source": [
    "epochs = 200\n",
    "for e in range(epochs):\n",
    "    train_iHVAE(e)"
   ]
  },
  {
   "cell_type": "code",
   "execution_count": 56,
   "metadata": {
    "collapsed": true
   },
   "outputs": [],
   "source": [
    "PATH = 'HiVAE_weights-paper.pth'\n",
    "torch.save(model.state_dict(), PATH)"
   ]
  },
  {
   "cell_type": "code",
   "execution_count": null,
   "metadata": {
    "collapsed": true
   },
   "outputs": [],
   "source": []
  },
  {
   "cell_type": "code",
   "execution_count": null,
   "metadata": {
    "collapsed": true
   },
   "outputs": [],
   "source": [
    "model_test = iHVAE() \n",
    "model_test.load_state_dict(torch.load(PATH))\n",
    "model_test = model_test.to(device)"
   ]
  },
  {
   "cell_type": "code",
   "execution_count": 13,
   "metadata": {
    "collapsed": true
   },
   "outputs": [],
   "source": [
    "def reconstruct_images(model, data):\n",
    "    model.eval()\n",
    "    phi = model(data)\n",
    "    z1_sample, _ = model.r_sampling(phi.mu_e1_p, phi.logvar_e1_p)\n",
    "    x_rec = model.decoder1(z1_sample)\n",
    "    \n",
    "    return x_rec"
   ]
  },
  {
   "cell_type": "code",
   "execution_count": 57,
   "metadata": {
    "collapsed": false,
    "scrolled": true
   },
   "outputs": [
    {
     "data": {
      "image/png": "[encoded data removed]",
      "text/plain": [
       "<Figure size 720x288 with 2 Axes>"
      ]
     },
     "metadata": {
      "needs_background": "light"
     },
     "output_type": "display_data"
    },
    {
     "name": "stdout",
     "output_type": "stream",
     "text": [
      "0\n"
     ]
    },
    {
     "data": {
      "image/png": "[encoded data removed]",
      "text/plain": [
       "<Figure size 720x288 with 2 Axes>"
      ]
     },
     "metadata": {
      "needs_background": "light"
     },
     "output_type": "display_data"
    },
    {
     "name": "stdout",
     "output_type": "stream",
     "text": [
      "1\n"
     ]
    },
    {
     "data": {
      "image/png": "[encoded data removed]",
      "text/plain": [
       "<Figure size 720x288 with 2 Axes>"
      ]
     },
     "metadata": {
      "needs_background": "light"
     },
     "output_type": "display_data"
    },
    {
     "name": "stdout",
     "output_type": "stream",
     "text": [
      "2\n"
     ]
    },
    {
     "data": {
      "image/png": "[encoded data removed]",
      "text/plain": [
       "<Figure size 720x288 with 2 Axes>"
      ]
     },
     "metadata": {
      "needs_background": "light"
     },
     "output_type": "display_data"
    },
    {
     "name": "stdout",
     "output_type": "stream",
     "text": [
      "3\n"
     ]
    },
    {
     "data": {
      "image/png": "[encoded data removed]",
      "text/plain": [
       "<Figure size 720x288 with 2 Axes>"
      ]
     },
     "metadata": {
      "needs_background": "light"
     },
     "output_type": "display_data"
    },
    {
     "name": "stdout",
     "output_type": "stream",
     "text": [
      "4\n"
     ]
    },
    {
     "data": {
      "image/png": "[encoded data removed]",
      "text/plain": [
       "<Figure size 720x288 with 2 Axes>"
      ]
     },
     "metadata": {
      "needs_background": "light"
     },
     "output_type": "display_data"
    },
    {
     "name": "stdout",
     "output_type": "stream",
     "text": [
      "5\n"
     ]
    },
    {
     "data": {
      "image/png": "[encoded data removed]",
      "text/plain": [
       "<Figure size 720x288 with 2 Axes>"
      ]
     },
     "metadata": {
      "needs_background": "light"
     },
     "output_type": "display_data"
    },
    {
     "name": "stdout",
     "output_type": "stream",
     "text": [
      "6\n"
     ]
    },
    {
     "data": {
      "image/png": "[encoded data removed]",
      "text/plain": [
       "<Figure size 720x288 with 2 Axes>"
      ]
     },
     "metadata": {
      "needs_background": "light"
     },
     "output_type": "display_data"
    },
    {
     "name": "stdout",
     "output_type": "stream",
     "text": [
      "7\n"
     ]
    },
    {
     "data": {
      "image/png": "[encoded data removed]",
      "text/plain": [
       "<Figure size 720x288 with 2 Axes>"
      ]
     },
     "metadata": {
      "needs_background": "light"
     },
     "output_type": "display_data"
    },
    {
     "name": "stdout",
     "output_type": "stream",
     "text": [
      "8\n"
     ]
    },
    {
     "data": {
      "image/png": "[encoded data removed]",
      "text/plain": [
       "<Figure size 720x288 with 2 Axes>"
      ]
     },
     "metadata": {
      "needs_background": "light"
     },
     "output_type": "display_data"
    },
    {
     "name": "stdout",
     "output_type": "stream",
     "text": [
      "9\n"
     ]
    },
    {
     "data": {
      "image/png": "[encoded data removed]",
      "text/plain": [
       "<Figure size 720x288 with 2 Axes>"
      ]
     },
     "metadata": {
      "needs_background": "light"
     },
     "output_type": "display_data"
    },
    {
     "name": "stdout",
     "output_type": "stream",
     "text": [
      "10\n"
     ]
    },
    {
     "data": {
      "image/png": "[encoded data removed]",
      "text/plain": [
       "<Figure size 720x288 with 2 Axes>"
      ]
     },
     "metadata": {
      "needs_background": "light"
     },
     "output_type": "display_data"
    },
    {
     "name": "stdout",
     "output_type": "stream",
     "text": [
      "11\n"
     ]
    },
    {
     "data": {
      "image/png": "[encoded data removed]",
      "text/plain": [
       "<Figure size 720x288 with 2 Axes>"
      ]
     },
     "metadata": {
      "needs_background": "light"
     },
     "output_type": "display_data"
    },
    {
     "name": "stdout",
     "output_type": "stream",
     "text": [
      "12\n"
     ]
    },
    {
     "data": {
      "image/png": "[encoded data removed]",
      "text/plain": [
       "<Figure size 720x288 with 2 Axes>"
      ]
     },
     "metadata": {
      "needs_background": "light"
     },
     "output_type": "display_data"
    },
    {
     "name": "stdout",
     "output_type": "stream",
     "text": [
      "13\n"
     ]
    },
    {
     "data": {
      "image/png": "[encoded data removed]",
      "text/plain": [
       "<Figure size 720x288 with 2 Axes>"
      ]
     },
     "metadata": {
      "needs_background": "light"
     },
     "output_type": "display_data"
    },
    {
     "name": "stdout",
     "output_type": "stream",
     "text": [
      "14\n"
     ]
    },
    {
     "data": {
      "image/png": "[encoded data removed]",
      "text/plain": [
       "<Figure size 720x288 with 2 Axes>"
      ]
     },
     "metadata": {
      "needs_background": "light"
     },
     "output_type": "display_data"
    },
    {
     "name": "stdout",
     "output_type": "stream",
     "text": [
      "15\n"
     ]
    },
    {
     "data": {
      "image/png": "[encoded data removed]",
      "text/plain": [
       "<Figure size 720x288 with 2 Axes>"
      ]
     },
     "metadata": {
      "needs_background": "light"
     },
     "output_type": "display_data"
    },
    {
     "name": "stdout",
     "output_type": "stream",
     "text": [
      "16\n"
     ]
    },
    {
     "data": {
      "image/png": "[encoded data removed]",
      "text/plain": [
       "<Figure size 720x288 with 2 Axes>"
      ]
     },
     "metadata": {
      "needs_background": "light"
     },
     "output_type": "display_data"
    },
    {
     "name": "stdout",
     "output_type": "stream",
     "text": [
      "17\n"
     ]
    },
    {
     "ename": "KeyboardInterrupt",
     "evalue": "",
     "output_type": "error",
     "traceback": [
      "\u001b[0;31m---------------------------------------------------------------------------\u001b[0m",
      "\u001b[0;31mKeyboardInterrupt\u001b[0m                         Traceback (most recent call last)",
      "\u001b[0;32m<ipython-input-57-099f09a2fda4>\u001b[0m in \u001b[0;36m<module>\u001b[0;34m()\u001b[0m\n\u001b[1;32m     10\u001b[0m     \u001b[0max\u001b[0m\u001b[0;34m[\u001b[0m\u001b[0;36m1\u001b[0m\u001b[0;34m]\u001b[0m\u001b[0;34m.\u001b[0m\u001b[0mimshow\u001b[0m\u001b[0;34m(\u001b[0m\u001b[0mtorch\u001b[0m\u001b[0;34m.\u001b[0m\u001b[0msigmoid\u001b[0m\u001b[0;34m(\u001b[0m\u001b[0mx_rec_test_sample\u001b[0m\u001b[0;34m[\u001b[0m\u001b[0;36m0\u001b[0m\u001b[0;34m]\u001b[0m\u001b[0;34m)\u001b[0m\u001b[0;34m.\u001b[0m\u001b[0mcpu\u001b[0m\u001b[0;34m(\u001b[0m\u001b[0;34m)\u001b[0m\u001b[0;34m.\u001b[0m\u001b[0mview\u001b[0m\u001b[0;34m(\u001b[0m\u001b[0;36m28\u001b[0m\u001b[0;34m,\u001b[0m\u001b[0;36m28\u001b[0m\u001b[0;34m)\u001b[0m\u001b[0;34m.\u001b[0m\u001b[0mdetach\u001b[0m\u001b[0;34m(\u001b[0m\u001b[0;34m)\u001b[0m\u001b[0;34m.\u001b[0m\u001b[0mnumpy\u001b[0m\u001b[0;34m(\u001b[0m\u001b[0;34m)\u001b[0m\u001b[0;34m)\u001b[0m\u001b[0;34m\u001b[0m\u001b[0m\n\u001b[1;32m     11\u001b[0m \u001b[0;31m#     plt.savefig('./HVAE-Results/Reconstructions/test_reconstruction_{}.png'.format(test_idx))\u001b[0m\u001b[0;34m\u001b[0m\u001b[0;34m\u001b[0m\u001b[0m\n\u001b[0;32m---> 12\u001b[0;31m     \u001b[0mplt\u001b[0m\u001b[0;34m.\u001b[0m\u001b[0mshow\u001b[0m\u001b[0;34m(\u001b[0m\u001b[0;34m)\u001b[0m\u001b[0;34m\u001b[0m\u001b[0m\n\u001b[0m\u001b[1;32m     13\u001b[0m     \u001b[0mprint\u001b[0m\u001b[0;34m(\u001b[0m\u001b[0mtest_idx\u001b[0m\u001b[0;34m)\u001b[0m\u001b[0;34m\u001b[0m\u001b[0m\n",
      "\u001b[0;32m/media/data/conda/lsinghal/envs/ls-torch-py35/lib/python3.5/site-packages/matplotlib/pyplot.py\u001b[0m in \u001b[0;36mshow\u001b[0;34m(*args, **kw)\u001b[0m\n\u001b[1;32m    252\u001b[0m     \"\"\"\n\u001b[1;32m    253\u001b[0m     \u001b[0;32mglobal\u001b[0m \u001b[0m_show\u001b[0m\u001b[0;34m\u001b[0m\u001b[0m\n\u001b[0;32m--> 254\u001b[0;31m     \u001b[0;32mreturn\u001b[0m \u001b[0m_show\u001b[0m\u001b[0;34m(\u001b[0m\u001b[0;34m*\u001b[0m\u001b[0margs\u001b[0m\u001b[0;34m,\u001b[0m \u001b[0;34m**\u001b[0m\u001b[0mkw\u001b[0m\u001b[0;34m)\u001b[0m\u001b[0;34m\u001b[0m\u001b[0m\n\u001b[0m\u001b[1;32m    255\u001b[0m \u001b[0;34m\u001b[0m\u001b[0m\n\u001b[1;32m    256\u001b[0m \u001b[0;34m\u001b[0m\u001b[0m\n",
      "\u001b[0;32m/media/data/conda/lsinghal/envs/ls-torch-py35/lib/python3.5/site-packages/ipykernel/pylab/backend_inline.py\u001b[0m in \u001b[0;36mshow\u001b[0;34m(close, block)\u001b[0m\n\u001b[1;32m     37\u001b[0m             display(\n\u001b[1;32m     38\u001b[0m                 \u001b[0mfigure_manager\u001b[0m\u001b[0;34m.\u001b[0m\u001b[0mcanvas\u001b[0m\u001b[0;34m.\u001b[0m\u001b[0mfigure\u001b[0m\u001b[0;34m,\u001b[0m\u001b[0;34m\u001b[0m\u001b[0m\n\u001b[0;32m---> 39\u001b[0;31m                 \u001b[0mmetadata\u001b[0m\u001b[0;34m=\u001b[0m\u001b[0m_fetch_figure_metadata\u001b[0m\u001b[0;34m(\u001b[0m\u001b[0mfigure_manager\u001b[0m\u001b[0;34m.\u001b[0m\u001b[0mcanvas\u001b[0m\u001b[0;34m.\u001b[0m\u001b[0mfigure\u001b[0m\u001b[0;34m)\u001b[0m\u001b[0;34m\u001b[0m\u001b[0m\n\u001b[0m\u001b[1;32m     40\u001b[0m             )\n\u001b[1;32m     41\u001b[0m     \u001b[0;32mfinally\u001b[0m\u001b[0;34m:\u001b[0m\u001b[0;34m\u001b[0m\u001b[0m\n",
      "\u001b[0;32m/media/data/conda/lsinghal/envs/ls-torch-py35/lib/python3.5/site-packages/IPython/core/display.py\u001b[0m in \u001b[0;36mdisplay\u001b[0;34m(*objs, **kwargs)\u001b[0m\n\u001b[1;32m    309\u001b[0m             \u001b[0mpublish_display_data\u001b[0m\u001b[0;34m(\u001b[0m\u001b[0mdata\u001b[0m\u001b[0;34m=\u001b[0m\u001b[0mobj\u001b[0m\u001b[0;34m,\u001b[0m \u001b[0mmetadata\u001b[0m\u001b[0;34m=\u001b[0m\u001b[0mmetadata\u001b[0m\u001b[0;34m,\u001b[0m \u001b[0;34m**\u001b[0m\u001b[0mkwargs\u001b[0m\u001b[0;34m)\u001b[0m\u001b[0;34m\u001b[0m\u001b[0m\n\u001b[1;32m    310\u001b[0m         \u001b[0;32melse\u001b[0m\u001b[0;34m:\u001b[0m\u001b[0;34m\u001b[0m\u001b[0m\n\u001b[0;32m--> 311\u001b[0;31m             \u001b[0mformat_dict\u001b[0m\u001b[0;34m,\u001b[0m \u001b[0mmd_dict\u001b[0m \u001b[0;34m=\u001b[0m \u001b[0mformat\u001b[0m\u001b[0;34m(\u001b[0m\u001b[0mobj\u001b[0m\u001b[0;34m,\u001b[0m \u001b[0minclude\u001b[0m\u001b[0;34m=\u001b[0m\u001b[0minclude\u001b[0m\u001b[0;34m,\u001b[0m \u001b[0mexclude\u001b[0m\u001b[0;34m=\u001b[0m\u001b[0mexclude\u001b[0m\u001b[0;34m)\u001b[0m\u001b[0;34m\u001b[0m\u001b[0m\n\u001b[0m\u001b[1;32m    312\u001b[0m             \u001b[0;32mif\u001b[0m \u001b[0;32mnot\u001b[0m \u001b[0mformat_dict\u001b[0m\u001b[0;34m:\u001b[0m\u001b[0;34m\u001b[0m\u001b[0m\n\u001b[1;32m    313\u001b[0m                 \u001b[0;31m# nothing to display (e.g. _ipython_display_ took over)\u001b[0m\u001b[0;34m\u001b[0m\u001b[0;34m\u001b[0m\u001b[0m\n",
      "\u001b[0;32m/media/data/conda/lsinghal/envs/ls-torch-py35/lib/python3.5/site-packages/IPython/core/formatters.py\u001b[0m in \u001b[0;36mformat\u001b[0;34m(self, obj, include, exclude)\u001b[0m\n\u001b[1;32m    171\u001b[0m             \u001b[0mmd\u001b[0m \u001b[0;34m=\u001b[0m \u001b[0;32mNone\u001b[0m\u001b[0;34m\u001b[0m\u001b[0m\n\u001b[1;32m    172\u001b[0m             \u001b[0;32mtry\u001b[0m\u001b[0;34m:\u001b[0m\u001b[0;34m\u001b[0m\u001b[0m\n\u001b[0;32m--> 173\u001b[0;31m                 \u001b[0mdata\u001b[0m \u001b[0;34m=\u001b[0m \u001b[0mformatter\u001b[0m\u001b[0;34m(\u001b[0m\u001b[0mobj\u001b[0m\u001b[0;34m)\u001b[0m\u001b[0;34m\u001b[0m\u001b[0m\n\u001b[0m\u001b[1;32m    174\u001b[0m             \u001b[0;32mexcept\u001b[0m\u001b[0;34m:\u001b[0m\u001b[0;34m\u001b[0m\u001b[0m\n\u001b[1;32m    175\u001b[0m                 \u001b[0;31m# FIXME: log the exception\u001b[0m\u001b[0;34m\u001b[0m\u001b[0;34m\u001b[0m\u001b[0m\n",
      "\u001b[0;32m<decorator-gen-9>\u001b[0m in \u001b[0;36m__call__\u001b[0;34m(self, obj)\u001b[0m\n",
      "\u001b[0;32m/media/data/conda/lsinghal/envs/ls-torch-py35/lib/python3.5/site-packages/IPython/core/formatters.py\u001b[0m in \u001b[0;36mcatch_format_error\u001b[0;34m(method, self, *args, **kwargs)\u001b[0m\n\u001b[1;32m    215\u001b[0m     \u001b[0;34m\"\"\"show traceback on failed format call\"\"\"\u001b[0m\u001b[0;34m\u001b[0m\u001b[0m\n\u001b[1;32m    216\u001b[0m     \u001b[0;32mtry\u001b[0m\u001b[0;34m:\u001b[0m\u001b[0;34m\u001b[0m\u001b[0m\n\u001b[0;32m--> 217\u001b[0;31m         \u001b[0mr\u001b[0m \u001b[0;34m=\u001b[0m \u001b[0mmethod\u001b[0m\u001b[0;34m(\u001b[0m\u001b[0mself\u001b[0m\u001b[0;34m,\u001b[0m \u001b[0;34m*\u001b[0m\u001b[0margs\u001b[0m\u001b[0;34m,\u001b[0m \u001b[0;34m**\u001b[0m\u001b[0mkwargs\u001b[0m\u001b[0;34m)\u001b[0m\u001b[0;34m\u001b[0m\u001b[0m\n\u001b[0m\u001b[1;32m    218\u001b[0m     \u001b[0;32mexcept\u001b[0m \u001b[0mNotImplementedError\u001b[0m\u001b[0;34m:\u001b[0m\u001b[0;34m\u001b[0m\u001b[0m\n\u001b[1;32m    219\u001b[0m         \u001b[0;31m# don't warn on NotImplementedErrors\u001b[0m\u001b[0;34m\u001b[0m\u001b[0;34m\u001b[0m\u001b[0m\n",
      "\u001b[0;32m/media/data/conda/lsinghal/envs/ls-torch-py35/lib/python3.5/site-packages/IPython/core/formatters.py\u001b[0m in \u001b[0;36m__call__\u001b[0;34m(self, obj)\u001b[0m\n\u001b[1;32m    332\u001b[0m                 \u001b[0;32mpass\u001b[0m\u001b[0;34m\u001b[0m\u001b[0m\n\u001b[1;32m    333\u001b[0m             \u001b[0;32melse\u001b[0m\u001b[0;34m:\u001b[0m\u001b[0;34m\u001b[0m\u001b[0m\n\u001b[0;32m--> 334\u001b[0;31m                 \u001b[0;32mreturn\u001b[0m \u001b[0mprinter\u001b[0m\u001b[0;34m(\u001b[0m\u001b[0mobj\u001b[0m\u001b[0;34m)\u001b[0m\u001b[0;34m\u001b[0m\u001b[0m\n\u001b[0m\u001b[1;32m    335\u001b[0m             \u001b[0;31m# Finally look for special method names\u001b[0m\u001b[0;34m\u001b[0m\u001b[0;34m\u001b[0m\u001b[0m\n\u001b[1;32m    336\u001b[0m             \u001b[0mmethod\u001b[0m \u001b[0;34m=\u001b[0m \u001b[0mget_real_method\u001b[0m\u001b[0;34m(\u001b[0m\u001b[0mobj\u001b[0m\u001b[0;34m,\u001b[0m \u001b[0mself\u001b[0m\u001b[0;34m.\u001b[0m\u001b[0mprint_method\u001b[0m\u001b[0;34m)\u001b[0m\u001b[0;34m\u001b[0m\u001b[0m\n",
      "\u001b[0;32m/media/data/conda/lsinghal/envs/ls-torch-py35/lib/python3.5/site-packages/IPython/core/pylabtools.py\u001b[0m in \u001b[0;36m<lambda>\u001b[0;34m(fig)\u001b[0m\n\u001b[1;32m    245\u001b[0m \u001b[0;34m\u001b[0m\u001b[0m\n\u001b[1;32m    246\u001b[0m     \u001b[0;32mif\u001b[0m \u001b[0;34m'png'\u001b[0m \u001b[0;32min\u001b[0m \u001b[0mformats\u001b[0m\u001b[0;34m:\u001b[0m\u001b[0;34m\u001b[0m\u001b[0m\n\u001b[0;32m--> 247\u001b[0;31m         \u001b[0mpng_formatter\u001b[0m\u001b[0;34m.\u001b[0m\u001b[0mfor_type\u001b[0m\u001b[0;34m(\u001b[0m\u001b[0mFigure\u001b[0m\u001b[0;34m,\u001b[0m \u001b[0;32mlambda\u001b[0m \u001b[0mfig\u001b[0m\u001b[0;34m:\u001b[0m \u001b[0mprint_figure\u001b[0m\u001b[0;34m(\u001b[0m\u001b[0mfig\u001b[0m\u001b[0;34m,\u001b[0m \u001b[0;34m'png'\u001b[0m\u001b[0;34m,\u001b[0m \u001b[0;34m**\u001b[0m\u001b[0mkwargs\u001b[0m\u001b[0;34m)\u001b[0m\u001b[0;34m)\u001b[0m\u001b[0;34m\u001b[0m\u001b[0m\n\u001b[0m\u001b[1;32m    248\u001b[0m     \u001b[0;32mif\u001b[0m \u001b[0;34m'retina'\u001b[0m \u001b[0;32min\u001b[0m \u001b[0mformats\u001b[0m \u001b[0;32mor\u001b[0m \u001b[0;34m'png2x'\u001b[0m \u001b[0;32min\u001b[0m \u001b[0mformats\u001b[0m\u001b[0;34m:\u001b[0m\u001b[0;34m\u001b[0m\u001b[0m\n\u001b[1;32m    249\u001b[0m         \u001b[0mpng_formatter\u001b[0m\u001b[0;34m.\u001b[0m\u001b[0mfor_type\u001b[0m\u001b[0;34m(\u001b[0m\u001b[0mFigure\u001b[0m\u001b[0;34m,\u001b[0m \u001b[0;32mlambda\u001b[0m \u001b[0mfig\u001b[0m\u001b[0;34m:\u001b[0m \u001b[0mretina_figure\u001b[0m\u001b[0;34m(\u001b[0m\u001b[0mfig\u001b[0m\u001b[0;34m,\u001b[0m \u001b[0;34m**\u001b[0m\u001b[0mkwargs\u001b[0m\u001b[0;34m)\u001b[0m\u001b[0;34m)\u001b[0m\u001b[0;34m\u001b[0m\u001b[0m\n",
      "\u001b[0;32m/media/data/conda/lsinghal/envs/ls-torch-py35/lib/python3.5/site-packages/IPython/core/pylabtools.py\u001b[0m in \u001b[0;36mprint_figure\u001b[0;34m(fig, fmt, bbox_inches, **kwargs)\u001b[0m\n\u001b[1;32m    129\u001b[0m \u001b[0;34m\u001b[0m\u001b[0m\n\u001b[1;32m    130\u001b[0m     \u001b[0mbytes_io\u001b[0m \u001b[0;34m=\u001b[0m \u001b[0mBytesIO\u001b[0m\u001b[0;34m(\u001b[0m\u001b[0;34m)\u001b[0m\u001b[0;34m\u001b[0m\u001b[0m\n\u001b[0;32m--> 131\u001b[0;31m     \u001b[0mfig\u001b[0m\u001b[0;34m.\u001b[0m\u001b[0mcanvas\u001b[0m\u001b[0;34m.\u001b[0m\u001b[0mprint_figure\u001b[0m\u001b[0;34m(\u001b[0m\u001b[0mbytes_io\u001b[0m\u001b[0;34m,\u001b[0m \u001b[0;34m**\u001b[0m\u001b[0mkw\u001b[0m\u001b[0;34m)\u001b[0m\u001b[0;34m\u001b[0m\u001b[0m\n\u001b[0m\u001b[1;32m    132\u001b[0m     \u001b[0mdata\u001b[0m \u001b[0;34m=\u001b[0m \u001b[0mbytes_io\u001b[0m\u001b[0;34m.\u001b[0m\u001b[0mgetvalue\u001b[0m\u001b[0;34m(\u001b[0m\u001b[0;34m)\u001b[0m\u001b[0;34m\u001b[0m\u001b[0m\n\u001b[1;32m    133\u001b[0m     \u001b[0;32mif\u001b[0m \u001b[0mfmt\u001b[0m \u001b[0;34m==\u001b[0m \u001b[0;34m'svg'\u001b[0m\u001b[0;34m:\u001b[0m\u001b[0;34m\u001b[0m\u001b[0m\n",
      "\u001b[0;32m/media/data/conda/lsinghal/envs/ls-torch-py35/lib/python3.5/site-packages/matplotlib/backend_bases.py\u001b[0m in \u001b[0;36mprint_figure\u001b[0;34m(self, filename, dpi, facecolor, edgecolor, orientation, format, bbox_inches, **kwargs)\u001b[0m\n\u001b[1;32m   2073\u001b[0m                     \u001b[0morientation\u001b[0m\u001b[0;34m=\u001b[0m\u001b[0morientation\u001b[0m\u001b[0;34m,\u001b[0m\u001b[0;34m\u001b[0m\u001b[0m\n\u001b[1;32m   2074\u001b[0m                     \u001b[0mbbox_inches_restore\u001b[0m\u001b[0;34m=\u001b[0m\u001b[0m_bbox_inches_restore\u001b[0m\u001b[0;34m,\u001b[0m\u001b[0;34m\u001b[0m\u001b[0m\n\u001b[0;32m-> 2075\u001b[0;31m                     **kwargs)\n\u001b[0m\u001b[1;32m   2076\u001b[0m             \u001b[0;32mfinally\u001b[0m\u001b[0;34m:\u001b[0m\u001b[0;34m\u001b[0m\u001b[0m\n\u001b[1;32m   2077\u001b[0m                 \u001b[0;32mif\u001b[0m \u001b[0mbbox_inches\u001b[0m \u001b[0;32mand\u001b[0m \u001b[0mrestore_bbox\u001b[0m\u001b[0;34m:\u001b[0m\u001b[0;34m\u001b[0m\u001b[0m\n",
      "\u001b[0;32m/media/data/conda/lsinghal/envs/ls-torch-py35/lib/python3.5/site-packages/matplotlib/backends/backend_agg.py\u001b[0m in \u001b[0;36mprint_png\u001b[0;34m(self, filename_or_obj, *args, **kwargs)\u001b[0m\n\u001b[1;32m    508\u001b[0m \u001b[0;34m\u001b[0m\u001b[0m\n\u001b[1;32m    509\u001b[0m         \"\"\"\n\u001b[0;32m--> 510\u001b[0;31m         \u001b[0mFigureCanvasAgg\u001b[0m\u001b[0;34m.\u001b[0m\u001b[0mdraw\u001b[0m\u001b[0;34m(\u001b[0m\u001b[0mself\u001b[0m\u001b[0;34m)\u001b[0m\u001b[0;34m\u001b[0m\u001b[0m\n\u001b[0m\u001b[1;32m    511\u001b[0m         \u001b[0mrenderer\u001b[0m \u001b[0;34m=\u001b[0m \u001b[0mself\u001b[0m\u001b[0;34m.\u001b[0m\u001b[0mget_renderer\u001b[0m\u001b[0;34m(\u001b[0m\u001b[0;34m)\u001b[0m\u001b[0;34m\u001b[0m\u001b[0m\n\u001b[1;32m    512\u001b[0m \u001b[0;34m\u001b[0m\u001b[0m\n",
      "\u001b[0;32m/media/data/conda/lsinghal/envs/ls-torch-py35/lib/python3.5/site-packages/matplotlib/backends/backend_agg.py\u001b[0m in \u001b[0;36mdraw\u001b[0;34m(self)\u001b[0m\n\u001b[1;32m    400\u001b[0m         \u001b[0mtoolbar\u001b[0m \u001b[0;34m=\u001b[0m \u001b[0mself\u001b[0m\u001b[0;34m.\u001b[0m\u001b[0mtoolbar\u001b[0m\u001b[0;34m\u001b[0m\u001b[0m\n\u001b[1;32m    401\u001b[0m         \u001b[0;32mtry\u001b[0m\u001b[0;34m:\u001b[0m\u001b[0;34m\u001b[0m\u001b[0m\n\u001b[0;32m--> 402\u001b[0;31m             \u001b[0mself\u001b[0m\u001b[0;34m.\u001b[0m\u001b[0mfigure\u001b[0m\u001b[0;34m.\u001b[0m\u001b[0mdraw\u001b[0m\u001b[0;34m(\u001b[0m\u001b[0mself\u001b[0m\u001b[0;34m.\u001b[0m\u001b[0mrenderer\u001b[0m\u001b[0;34m)\u001b[0m\u001b[0;34m\u001b[0m\u001b[0m\n\u001b[0m\u001b[1;32m    403\u001b[0m             \u001b[0;31m# A GUI class may be need to update a window using this draw, so\u001b[0m\u001b[0;34m\u001b[0m\u001b[0;34m\u001b[0m\u001b[0m\n\u001b[1;32m    404\u001b[0m             \u001b[0;31m# don't forget to call the superclass.\u001b[0m\u001b[0;34m\u001b[0m\u001b[0;34m\u001b[0m\u001b[0m\n",
      "\u001b[0;32m/media/data/conda/lsinghal/envs/ls-torch-py35/lib/python3.5/site-packages/matplotlib/artist.py\u001b[0m in \u001b[0;36mdraw_wrapper\u001b[0;34m(artist, renderer, *args, **kwargs)\u001b[0m\n\u001b[1;32m     48\u001b[0m                 \u001b[0mrenderer\u001b[0m\u001b[0;34m.\u001b[0m\u001b[0mstart_filter\u001b[0m\u001b[0;34m(\u001b[0m\u001b[0;34m)\u001b[0m\u001b[0;34m\u001b[0m\u001b[0m\n\u001b[1;32m     49\u001b[0m \u001b[0;34m\u001b[0m\u001b[0m\n\u001b[0;32m---> 50\u001b[0;31m             \u001b[0;32mreturn\u001b[0m \u001b[0mdraw\u001b[0m\u001b[0;34m(\u001b[0m\u001b[0martist\u001b[0m\u001b[0;34m,\u001b[0m \u001b[0mrenderer\u001b[0m\u001b[0;34m,\u001b[0m \u001b[0;34m*\u001b[0m\u001b[0margs\u001b[0m\u001b[0;34m,\u001b[0m \u001b[0;34m**\u001b[0m\u001b[0mkwargs\u001b[0m\u001b[0;34m)\u001b[0m\u001b[0;34m\u001b[0m\u001b[0m\n\u001b[0m\u001b[1;32m     51\u001b[0m         \u001b[0;32mfinally\u001b[0m\u001b[0;34m:\u001b[0m\u001b[0;34m\u001b[0m\u001b[0m\n\u001b[1;32m     52\u001b[0m             \u001b[0;32mif\u001b[0m \u001b[0martist\u001b[0m\u001b[0;34m.\u001b[0m\u001b[0mget_agg_filter\u001b[0m\u001b[0;34m(\u001b[0m\u001b[0;34m)\u001b[0m \u001b[0;32mis\u001b[0m \u001b[0;32mnot\u001b[0m \u001b[0;32mNone\u001b[0m\u001b[0;34m:\u001b[0m\u001b[0;34m\u001b[0m\u001b[0m\n",
      "\u001b[0;32m/media/data/conda/lsinghal/envs/ls-torch-py35/lib/python3.5/site-packages/matplotlib/figure.py\u001b[0m in \u001b[0;36mdraw\u001b[0;34m(self, renderer)\u001b[0m\n\u001b[1;32m   1647\u001b[0m \u001b[0;34m\u001b[0m\u001b[0m\n\u001b[1;32m   1648\u001b[0m             mimage._draw_list_compositing_images(\n\u001b[0;32m-> 1649\u001b[0;31m                 renderer, self, artists, self.suppressComposite)\n\u001b[0m\u001b[1;32m   1650\u001b[0m \u001b[0;34m\u001b[0m\u001b[0m\n\u001b[1;32m   1651\u001b[0m             \u001b[0mrenderer\u001b[0m\u001b[0;34m.\u001b[0m\u001b[0mclose_group\u001b[0m\u001b[0;34m(\u001b[0m\u001b[0;34m'figure'\u001b[0m\u001b[0;34m)\u001b[0m\u001b[0;34m\u001b[0m\u001b[0m\n",
      "\u001b[0;32m/media/data/conda/lsinghal/envs/ls-torch-py35/lib/python3.5/site-packages/matplotlib/image.py\u001b[0m in \u001b[0;36m_draw_list_compositing_images\u001b[0;34m(renderer, parent, artists, suppress_composite)\u001b[0m\n\u001b[1;32m    136\u001b[0m     \u001b[0;32mif\u001b[0m \u001b[0mnot_composite\u001b[0m \u001b[0;32mor\u001b[0m \u001b[0;32mnot\u001b[0m \u001b[0mhas_images\u001b[0m\u001b[0;34m:\u001b[0m\u001b[0;34m\u001b[0m\u001b[0m\n\u001b[1;32m    137\u001b[0m         \u001b[0;32mfor\u001b[0m \u001b[0ma\u001b[0m \u001b[0;32min\u001b[0m \u001b[0martists\u001b[0m\u001b[0;34m:\u001b[0m\u001b[0;34m\u001b[0m\u001b[0m\n\u001b[0;32m--> 138\u001b[0;31m             \u001b[0ma\u001b[0m\u001b[0;34m.\u001b[0m\u001b[0mdraw\u001b[0m\u001b[0;34m(\u001b[0m\u001b[0mrenderer\u001b[0m\u001b[0;34m)\u001b[0m\u001b[0;34m\u001b[0m\u001b[0m\n\u001b[0m\u001b[1;32m    139\u001b[0m     \u001b[0;32melse\u001b[0m\u001b[0;34m:\u001b[0m\u001b[0;34m\u001b[0m\u001b[0m\n\u001b[1;32m    140\u001b[0m         \u001b[0;31m# Composite any adjacent images together\u001b[0m\u001b[0;34m\u001b[0m\u001b[0;34m\u001b[0m\u001b[0m\n",
      "\u001b[0;32m/media/data/conda/lsinghal/envs/ls-torch-py35/lib/python3.5/site-packages/matplotlib/artist.py\u001b[0m in \u001b[0;36mdraw_wrapper\u001b[0;34m(artist, renderer, *args, **kwargs)\u001b[0m\n\u001b[1;32m     48\u001b[0m                 \u001b[0mrenderer\u001b[0m\u001b[0;34m.\u001b[0m\u001b[0mstart_filter\u001b[0m\u001b[0;34m(\u001b[0m\u001b[0;34m)\u001b[0m\u001b[0;34m\u001b[0m\u001b[0m\n\u001b[1;32m     49\u001b[0m \u001b[0;34m\u001b[0m\u001b[0m\n\u001b[0;32m---> 50\u001b[0;31m             \u001b[0;32mreturn\u001b[0m \u001b[0mdraw\u001b[0m\u001b[0;34m(\u001b[0m\u001b[0martist\u001b[0m\u001b[0;34m,\u001b[0m \u001b[0mrenderer\u001b[0m\u001b[0;34m,\u001b[0m \u001b[0;34m*\u001b[0m\u001b[0margs\u001b[0m\u001b[0;34m,\u001b[0m \u001b[0;34m**\u001b[0m\u001b[0mkwargs\u001b[0m\u001b[0;34m)\u001b[0m\u001b[0;34m\u001b[0m\u001b[0m\n\u001b[0m\u001b[1;32m     51\u001b[0m         \u001b[0;32mfinally\u001b[0m\u001b[0;34m:\u001b[0m\u001b[0;34m\u001b[0m\u001b[0m\n\u001b[1;32m     52\u001b[0m             \u001b[0;32mif\u001b[0m \u001b[0martist\u001b[0m\u001b[0;34m.\u001b[0m\u001b[0mget_agg_filter\u001b[0m\u001b[0;34m(\u001b[0m\u001b[0;34m)\u001b[0m \u001b[0;32mis\u001b[0m \u001b[0;32mnot\u001b[0m \u001b[0;32mNone\u001b[0m\u001b[0;34m:\u001b[0m\u001b[0;34m\u001b[0m\u001b[0m\n",
      "\u001b[0;32m/media/data/conda/lsinghal/envs/ls-torch-py35/lib/python3.5/site-packages/matplotlib/axes/_base.py\u001b[0m in \u001b[0;36mdraw\u001b[0;34m(self, renderer, inframe)\u001b[0m\n\u001b[1;32m   2626\u001b[0m             \u001b[0mrenderer\u001b[0m\u001b[0;34m.\u001b[0m\u001b[0mstop_rasterizing\u001b[0m\u001b[0;34m(\u001b[0m\u001b[0;34m)\u001b[0m\u001b[0;34m\u001b[0m\u001b[0m\n\u001b[1;32m   2627\u001b[0m \u001b[0;34m\u001b[0m\u001b[0m\n\u001b[0;32m-> 2628\u001b[0;31m         \u001b[0mmimage\u001b[0m\u001b[0;34m.\u001b[0m\u001b[0m_draw_list_compositing_images\u001b[0m\u001b[0;34m(\u001b[0m\u001b[0mrenderer\u001b[0m\u001b[0;34m,\u001b[0m \u001b[0mself\u001b[0m\u001b[0;34m,\u001b[0m \u001b[0martists\u001b[0m\u001b[0;34m)\u001b[0m\u001b[0;34m\u001b[0m\u001b[0m\n\u001b[0m\u001b[1;32m   2629\u001b[0m \u001b[0;34m\u001b[0m\u001b[0m\n\u001b[1;32m   2630\u001b[0m         \u001b[0mrenderer\u001b[0m\u001b[0;34m.\u001b[0m\u001b[0mclose_group\u001b[0m\u001b[0;34m(\u001b[0m\u001b[0;34m'axes'\u001b[0m\u001b[0;34m)\u001b[0m\u001b[0;34m\u001b[0m\u001b[0m\n",
      "\u001b[0;32m/media/data/conda/lsinghal/envs/ls-torch-py35/lib/python3.5/site-packages/matplotlib/image.py\u001b[0m in \u001b[0;36m_draw_list_compositing_images\u001b[0;34m(renderer, parent, artists, suppress_composite)\u001b[0m\n\u001b[1;32m    136\u001b[0m     \u001b[0;32mif\u001b[0m \u001b[0mnot_composite\u001b[0m \u001b[0;32mor\u001b[0m \u001b[0;32mnot\u001b[0m \u001b[0mhas_images\u001b[0m\u001b[0;34m:\u001b[0m\u001b[0;34m\u001b[0m\u001b[0m\n\u001b[1;32m    137\u001b[0m         \u001b[0;32mfor\u001b[0m \u001b[0ma\u001b[0m \u001b[0;32min\u001b[0m \u001b[0martists\u001b[0m\u001b[0;34m:\u001b[0m\u001b[0;34m\u001b[0m\u001b[0m\n\u001b[0;32m--> 138\u001b[0;31m             \u001b[0ma\u001b[0m\u001b[0;34m.\u001b[0m\u001b[0mdraw\u001b[0m\u001b[0;34m(\u001b[0m\u001b[0mrenderer\u001b[0m\u001b[0;34m)\u001b[0m\u001b[0;34m\u001b[0m\u001b[0m\n\u001b[0m\u001b[1;32m    139\u001b[0m     \u001b[0;32melse\u001b[0m\u001b[0;34m:\u001b[0m\u001b[0;34m\u001b[0m\u001b[0m\n\u001b[1;32m    140\u001b[0m         \u001b[0;31m# Composite any adjacent images together\u001b[0m\u001b[0;34m\u001b[0m\u001b[0;34m\u001b[0m\u001b[0m\n",
      "\u001b[0;32m/media/data/conda/lsinghal/envs/ls-torch-py35/lib/python3.5/site-packages/matplotlib/artist.py\u001b[0m in \u001b[0;36mdraw_wrapper\u001b[0;34m(artist, renderer, *args, **kwargs)\u001b[0m\n\u001b[1;32m     48\u001b[0m                 \u001b[0mrenderer\u001b[0m\u001b[0;34m.\u001b[0m\u001b[0mstart_filter\u001b[0m\u001b[0;34m(\u001b[0m\u001b[0;34m)\u001b[0m\u001b[0;34m\u001b[0m\u001b[0m\n\u001b[1;32m     49\u001b[0m \u001b[0;34m\u001b[0m\u001b[0m\n\u001b[0;32m---> 50\u001b[0;31m             \u001b[0;32mreturn\u001b[0m \u001b[0mdraw\u001b[0m\u001b[0;34m(\u001b[0m\u001b[0martist\u001b[0m\u001b[0;34m,\u001b[0m \u001b[0mrenderer\u001b[0m\u001b[0;34m,\u001b[0m \u001b[0;34m*\u001b[0m\u001b[0margs\u001b[0m\u001b[0;34m,\u001b[0m \u001b[0;34m**\u001b[0m\u001b[0mkwargs\u001b[0m\u001b[0;34m)\u001b[0m\u001b[0;34m\u001b[0m\u001b[0m\n\u001b[0m\u001b[1;32m     51\u001b[0m         \u001b[0;32mfinally\u001b[0m\u001b[0;34m:\u001b[0m\u001b[0;34m\u001b[0m\u001b[0m\n\u001b[1;32m     52\u001b[0m             \u001b[0;32mif\u001b[0m \u001b[0martist\u001b[0m\u001b[0;34m.\u001b[0m\u001b[0mget_agg_filter\u001b[0m\u001b[0;34m(\u001b[0m\u001b[0;34m)\u001b[0m \u001b[0;32mis\u001b[0m \u001b[0;32mnot\u001b[0m \u001b[0;32mNone\u001b[0m\u001b[0;34m:\u001b[0m\u001b[0;34m\u001b[0m\u001b[0m\n",
      "\u001b[0;32m/media/data/conda/lsinghal/envs/ls-torch-py35/lib/python3.5/site-packages/matplotlib/image.py\u001b[0m in \u001b[0;36mdraw\u001b[0;34m(self, renderer, *args, **kwargs)\u001b[0m\n\u001b[1;32m    582\u001b[0m         \u001b[0;32melse\u001b[0m\u001b[0;34m:\u001b[0m\u001b[0;34m\u001b[0m\u001b[0m\n\u001b[1;32m    583\u001b[0m             im, l, b, trans = self.make_image(\n\u001b[0;32m--> 584\u001b[0;31m                 renderer, renderer.get_image_magnification())\n\u001b[0m\u001b[1;32m    585\u001b[0m             \u001b[0;32mif\u001b[0m \u001b[0mim\u001b[0m \u001b[0;32mis\u001b[0m \u001b[0;32mnot\u001b[0m \u001b[0;32mNone\u001b[0m\u001b[0;34m:\u001b[0m\u001b[0;34m\u001b[0m\u001b[0m\n\u001b[1;32m    586\u001b[0m                 \u001b[0mrenderer\u001b[0m\u001b[0;34m.\u001b[0m\u001b[0mdraw_image\u001b[0m\u001b[0;34m(\u001b[0m\u001b[0mgc\u001b[0m\u001b[0;34m,\u001b[0m \u001b[0ml\u001b[0m\u001b[0;34m,\u001b[0m \u001b[0mb\u001b[0m\u001b[0;34m,\u001b[0m \u001b[0mim\u001b[0m\u001b[0;34m)\u001b[0m\u001b[0;34m\u001b[0m\u001b[0m\n",
      "\u001b[0;32m/media/data/conda/lsinghal/envs/ls-torch-py35/lib/python3.5/site-packages/matplotlib/image.py\u001b[0m in \u001b[0;36mmake_image\u001b[0;34m(self, renderer, magnification, unsampled)\u001b[0m\n\u001b[1;32m    829\u001b[0m         return self._make_image(\n\u001b[1;32m    830\u001b[0m             \u001b[0mself\u001b[0m\u001b[0;34m.\u001b[0m\u001b[0m_A\u001b[0m\u001b[0;34m,\u001b[0m \u001b[0mbbox\u001b[0m\u001b[0;34m,\u001b[0m \u001b[0mtransformed_bbox\u001b[0m\u001b[0;34m,\u001b[0m \u001b[0mself\u001b[0m\u001b[0;34m.\u001b[0m\u001b[0maxes\u001b[0m\u001b[0;34m.\u001b[0m\u001b[0mbbox\u001b[0m\u001b[0;34m,\u001b[0m \u001b[0mmagnification\u001b[0m\u001b[0;34m,\u001b[0m\u001b[0;34m\u001b[0m\u001b[0m\n\u001b[0;32m--> 831\u001b[0;31m             unsampled=unsampled)\n\u001b[0m\u001b[1;32m    832\u001b[0m \u001b[0;34m\u001b[0m\u001b[0m\n\u001b[1;32m    833\u001b[0m     \u001b[0;32mdef\u001b[0m \u001b[0m_check_unsampled_image\u001b[0m\u001b[0;34m(\u001b[0m\u001b[0mself\u001b[0m\u001b[0;34m,\u001b[0m \u001b[0mrenderer\u001b[0m\u001b[0;34m)\u001b[0m\u001b[0;34m:\u001b[0m\u001b[0;34m\u001b[0m\u001b[0m\n",
      "\u001b[0;32m/media/data/conda/lsinghal/envs/ls-torch-py35/lib/python3.5/site-packages/matplotlib/image.py\u001b[0m in \u001b[0;36m_make_image\u001b[0;34m(self, A, in_bbox, out_bbox, clip_bbox, magnification, unsampled, round_to_pixel_border)\u001b[0m\n\u001b[1;32m    500\u001b[0m             \u001b[0;31m# (of int or float)\u001b[0m\u001b[0;34m\u001b[0m\u001b[0;34m\u001b[0m\u001b[0m\n\u001b[1;32m    501\u001b[0m             \u001b[0;31m# or an RGBA array of re-sampled input\u001b[0m\u001b[0;34m\u001b[0m\u001b[0;34m\u001b[0m\u001b[0m\n\u001b[0;32m--> 502\u001b[0;31m             \u001b[0moutput\u001b[0m \u001b[0;34m=\u001b[0m \u001b[0mself\u001b[0m\u001b[0;34m.\u001b[0m\u001b[0mto_rgba\u001b[0m\u001b[0;34m(\u001b[0m\u001b[0moutput\u001b[0m\u001b[0;34m,\u001b[0m \u001b[0mbytes\u001b[0m\u001b[0;34m=\u001b[0m\u001b[0;32mTrue\u001b[0m\u001b[0;34m,\u001b[0m \u001b[0mnorm\u001b[0m\u001b[0;34m=\u001b[0m\u001b[0;32mFalse\u001b[0m\u001b[0;34m)\u001b[0m\u001b[0;34m\u001b[0m\u001b[0m\n\u001b[0m\u001b[1;32m    503\u001b[0m             \u001b[0;31m# output is now a correctly sized RGBA array of uint8\u001b[0m\u001b[0;34m\u001b[0m\u001b[0;34m\u001b[0m\u001b[0m\n\u001b[1;32m    504\u001b[0m \u001b[0;34m\u001b[0m\u001b[0m\n",
      "\u001b[0;32m/media/data/conda/lsinghal/envs/ls-torch-py35/lib/python3.5/site-packages/matplotlib/cm.py\u001b[0m in \u001b[0;36mto_rgba\u001b[0;34m(self, x, alpha, bytes, norm)\u001b[0m\n\u001b[1;32m    287\u001b[0m         \u001b[0;32mif\u001b[0m \u001b[0mnorm\u001b[0m\u001b[0;34m:\u001b[0m\u001b[0;34m\u001b[0m\u001b[0m\n\u001b[1;32m    288\u001b[0m             \u001b[0mx\u001b[0m \u001b[0;34m=\u001b[0m \u001b[0mself\u001b[0m\u001b[0;34m.\u001b[0m\u001b[0mnorm\u001b[0m\u001b[0;34m(\u001b[0m\u001b[0mx\u001b[0m\u001b[0;34m)\u001b[0m\u001b[0;34m\u001b[0m\u001b[0m\n\u001b[0;32m--> 289\u001b[0;31m         \u001b[0mrgba\u001b[0m \u001b[0;34m=\u001b[0m \u001b[0mself\u001b[0m\u001b[0;34m.\u001b[0m\u001b[0mcmap\u001b[0m\u001b[0;34m(\u001b[0m\u001b[0mx\u001b[0m\u001b[0;34m,\u001b[0m \u001b[0malpha\u001b[0m\u001b[0;34m=\u001b[0m\u001b[0malpha\u001b[0m\u001b[0;34m,\u001b[0m \u001b[0mbytes\u001b[0m\u001b[0;34m=\u001b[0m\u001b[0mbytes\u001b[0m\u001b[0;34m)\u001b[0m\u001b[0;34m\u001b[0m\u001b[0m\n\u001b[0m\u001b[1;32m    290\u001b[0m         \u001b[0;32mreturn\u001b[0m \u001b[0mrgba\u001b[0m\u001b[0;34m\u001b[0m\u001b[0m\n\u001b[1;32m    291\u001b[0m \u001b[0;34m\u001b[0m\u001b[0m\n",
      "\u001b[0;32m/media/data/conda/lsinghal/envs/ls-torch-py35/lib/python3.5/site-packages/matplotlib/colors.py\u001b[0m in \u001b[0;36m__call__\u001b[0;34m(self, X, alpha, bytes)\u001b[0m\n\u001b[1;32m    512\u001b[0m             \u001b[0mxa\u001b[0m\u001b[0;34m[\u001b[0m\u001b[0mxa\u001b[0m \u001b[0;34m<\u001b[0m \u001b[0;36m0\u001b[0m\u001b[0;34m]\u001b[0m \u001b[0;34m=\u001b[0m \u001b[0;34m-\u001b[0m\u001b[0;36m1\u001b[0m\u001b[0;34m\u001b[0m\u001b[0m\n\u001b[1;32m    513\u001b[0m             \u001b[0;31m# xa == 1 (== N after multiplication) is not out of range.\u001b[0m\u001b[0;34m\u001b[0m\u001b[0;34m\u001b[0m\u001b[0m\n\u001b[0;32m--> 514\u001b[0;31m             \u001b[0mxa\u001b[0m\u001b[0;34m[\u001b[0m\u001b[0mxa\u001b[0m \u001b[0;34m==\u001b[0m \u001b[0mself\u001b[0m\u001b[0;34m.\u001b[0m\u001b[0mN\u001b[0m\u001b[0;34m]\u001b[0m \u001b[0;34m=\u001b[0m \u001b[0mself\u001b[0m\u001b[0;34m.\u001b[0m\u001b[0mN\u001b[0m \u001b[0;34m-\u001b[0m \u001b[0;36m1\u001b[0m\u001b[0;34m\u001b[0m\u001b[0m\n\u001b[0m\u001b[1;32m    515\u001b[0m             \u001b[0;31m# Avoid converting large positive values to negative integers.\u001b[0m\u001b[0;34m\u001b[0m\u001b[0;34m\u001b[0m\u001b[0m\n\u001b[1;32m    516\u001b[0m             \u001b[0mnp\u001b[0m\u001b[0;34m.\u001b[0m\u001b[0mclip\u001b[0m\u001b[0;34m(\u001b[0m\u001b[0mxa\u001b[0m\u001b[0;34m,\u001b[0m \u001b[0;34m-\u001b[0m\u001b[0;36m1\u001b[0m\u001b[0;34m,\u001b[0m \u001b[0mself\u001b[0m\u001b[0;34m.\u001b[0m\u001b[0mN\u001b[0m\u001b[0;34m,\u001b[0m \u001b[0mout\u001b[0m\u001b[0;34m=\u001b[0m\u001b[0mxa\u001b[0m\u001b[0;34m)\u001b[0m\u001b[0;34m\u001b[0m\u001b[0m\n",
      "\u001b[0;31mKeyboardInterrupt\u001b[0m: "
     ]
    }
   ],
   "source": [
    "import matplotlib.pyplot as plt \n",
    "\n",
    "\n",
    "for test_idx, (X_test, _) in enumerate(test_dataset):    \n",
    "    x_test_sample = X_test[0].view(-1,784)\n",
    "    x_test_sample = x_test_sample\n",
    "    x_rec_test_sample = reconstruct_images(model, x_test_sample.to(device))\n",
    "    fig, ax = plt.subplots(nrows=1, ncols=2, figsize=(10,4))\n",
    "    ax[0].imshow(x_test_sample.view(28,28).detach().numpy())\n",
    "    ax[1].imshow(torch.sigmoid(x_rec_test_sample[0]).cpu().view(28,28).detach().numpy())\n",
    "#     plt.savefig('./HVAE-Results/Reconstructions/test_reconstruction_{}.png'.format(test_idx))\n",
    "    plt.show()\n",
    "    print(test_idx)\n"
   ]
  },
  {
   "cell_type": "code",
   "execution_count": null,
   "metadata": {
    "collapsed": true
   },
   "outputs": [],
   "source": []
  },
  {
   "cell_type": "code",
   "execution_count": null,
   "metadata": {
    "collapsed": true
   },
   "outputs": [],
   "source": []
  },
  {
   "cell_type": "code",
   "execution_count": 16,
   "metadata": {
    "collapsed": true
   },
   "outputs": [],
   "source": [
    "## MNIST Classifier \n",
    "\n",
    "class classifier(nn.Module):\n",
    "    def __init__(self):\n",
    "        super(classifier, self).__init__()\n",
    "        self.conv1 = nn.Conv2d(1, 32, kernel_size=(3,3), padding=1) \n",
    "        self.maxpool1 = nn.MaxPool2d(2) # 14x14x32\n",
    "        \n",
    "        self.conv2 = nn.Conv2d(32, 64, kernel_size=(3,3), padding=1)\n",
    "        self.maxpool2 = nn.MaxPool2d(2) # 7x7x64\n",
    "        \n",
    "        self.conv3 = nn.Conv2d(64, 16, kernel_size=(3,3), padding=1)\n",
    "        self.maxpool3 = nn.MaxPool2d(2) # 3x3x16\n",
    "        \n",
    "        self.fc1 = nn.Linear(3*3*16, 128)\n",
    "        self.fc2 = nn.Linear(128, 64)\n",
    "        self.fc3 = nn.Linear(64,10)\n",
    "        \n",
    "        self.softmax = nn.Softmax(dim=1)\n",
    "        \n",
    "    def forward(self, x, bs):\n",
    "        \n",
    "        x = F.relu(self.conv1(x))\n",
    "        x = self.maxpool1(x)\n",
    "        \n",
    "        x = F.relu(self.conv2(x))\n",
    "        x = self.maxpool2(x)\n",
    "        \n",
    "        x = F.relu(self.conv3(x))\n",
    "        x = self.maxpool3(x)\n",
    "        \n",
    "        x = x.view(-1, 3*3*16)\n",
    "        \n",
    "        x = F.relu(self.fc1(x))\n",
    "        x = F.relu(self.fc2(x))\n",
    "        \n",
    "        x = self.fc3(x)\n",
    "        \n",
    "        return x        "
   ]
  },
  {
   "cell_type": "code",
   "execution_count": 17,
   "metadata": {
    "collapsed": true
   },
   "outputs": [],
   "source": [
    "classifier_mnist = classifier().to(device)"
   ]
  },
  {
   "cell_type": "code",
   "execution_count": 18,
   "metadata": {
    "collapsed": true
   },
   "outputs": [],
   "source": [
    "import torch.optim as optim\n",
    "\n",
    "optimizer_classifier = optim.Adam(classifier_mnist.parameters(), lr=1e-3)"
   ]
  },
  {
   "cell_type": "code",
   "execution_count": 19,
   "metadata": {
    "collapsed": true
   },
   "outputs": [],
   "source": [
    "criterion_classifier = nn.CrossEntropyLoss()"
   ]
  },
  {
   "cell_type": "code",
   "execution_count": 20,
   "metadata": {
    "collapsed": true
   },
   "outputs": [],
   "source": [
    "def train_classifier(epoch):\n",
    "    total_loss = 0\n",
    "    for idx, (X_train, y_train) in enumerate(train_loader):\n",
    "        y_pred = classifier_mnist(X_train.to(device), bs)\n",
    "        loss = criterion_classifier(y_pred, y_train.to(device))\n",
    "        \n",
    "        optimizer_classifier.zero_grad()\n",
    "        loss.backward()\n",
    "        optimizer_classifier.step()\n",
    "        total_loss += loss.item()\n",
    "    print('For epoch {}, loss is {}'.format(epoch, total_loss))"
   ]
  },
  {
   "cell_type": "code",
   "execution_count": 21,
   "metadata": {
    "collapsed": false
   },
   "outputs": [
    {
     "name": "stdout",
     "output_type": "stream",
     "text": [
      "For epoch 0, loss is 75.62339982390404\n",
      "For epoch 1, loss is 18.112258449196815\n",
      "For epoch 2, loss is 9.853487648069859\n",
      "For epoch 3, loss is 7.190755970776081\n",
      "For epoch 4, loss is 5.907568149268627\n",
      "For epoch 5, loss is 5.047714427113533\n",
      "For epoch 6, loss is 4.396524965763092\n",
      "For epoch 7, loss is 4.076981969177723\n",
      "For epoch 8, loss is 3.688246164470911\n",
      "For epoch 9, loss is 3.253346398472786\n",
      "For epoch 10, loss is 3.028335854411125\n",
      "For epoch 11, loss is 3.029560524970293\n",
      "For epoch 12, loss is 2.625402668491006\n",
      "For epoch 13, loss is 2.49310683645308\n",
      "For epoch 14, loss is 2.3602079562842846\n",
      "For epoch 15, loss is 2.231247764080763\n",
      "For epoch 16, loss is 2.1195983085781336\n",
      "For epoch 17, loss is 1.9733759947121143\n",
      "For epoch 18, loss is 1.9643505774438381\n",
      "For epoch 19, loss is 1.7675113435834646\n"
     ]
    }
   ],
   "source": [
    "epochs = 20\n",
    "for e in range(epochs):\n",
    "    train_classifier(e)"
   ]
  },
  {
   "cell_type": "code",
   "execution_count": 29,
   "metadata": {
    "collapsed": true
   },
   "outputs": [],
   "source": [
    "PATH = 'classifier_weights.pth'\n",
    "torch.save(classifier_mnist.state_dict(), PATH)"
   ]
  },
  {
   "cell_type": "code",
   "execution_count": null,
   "metadata": {
    "collapsed": true
   },
   "outputs": [],
   "source": []
  },
  {
   "cell_type": "code",
   "execution_count": null,
   "metadata": {
    "collapsed": true
   },
   "outputs": [],
   "source": []
  },
  {
   "cell_type": "code",
   "execution_count": 22,
   "metadata": {
    "collapsed": true
   },
   "outputs": [],
   "source": [
    "import torch.distributions as tdist\n",
    "def gaussian_noise(input, std=0.2):\n",
    "    noise = torch.normal(mean=0, std=torch.ones_like(input)*std)\n",
    "    return input + noise"
   ]
  },
  {
   "cell_type": "code",
   "execution_count": 59,
   "metadata": {
    "collapsed": false
   },
   "outputs": [
    {
     "name": "stdout",
     "output_type": "stream",
     "text": [
      "Test Accuracy for HVAE 97.54\n"
     ]
    }
   ],
   "source": [
    "model.eval()\n",
    "hvae_total_correct = 0\n",
    "\n",
    "for hvae_X_test, hvae_y_test, in test_loader:\n",
    "    hvae_X_test = gaussian_noise(hvae_X_test, std=0)\n",
    "    hvae_X_rec_test = reconstruct_images(model, hvae_X_test.view(-1,784).to(device))\n",
    "    hvae_X_rec_test = hvae_X_rec_test.view(-1, 1, 28, 28)\n",
    "    hvae_X_noise_test = torch.sigmoid(hvae_X_rec_test)\n",
    "    hvae_y_pred_test = classifier_mnist(hvae_X_noise_test.to(device), bs) \n",
    "    hvae_correct = torch.sum((torch.argmax(hvae_y_pred_test, axis=1).eq(hvae_y_test.to(device)))).item()\n",
    "    hvae_total_correct+=hvae_correct\n",
    "hvae_test_accuracy = (hvae_total_correct/len(test_loader.dataset))*100\n",
    "print('Test Accuracy for HVAE', hvae_test_accuracy)"
   ]
  },
  {
   "cell_type": "code",
   "execution_count": null,
   "metadata": {
    "collapsed": true
   },
   "outputs": [],
   "source": []
  }
 ],
 "metadata": {
  "kernelspec": {
   "display_name": "ls-torch-py35",
   "language": "python",
   "name": "ls-torch-py35"
  },
  "language_info": {
   "codemirror_mode": {
    "name": "ipython",
    "version": 3
   },
   "file_extension": ".py",
   "mimetype": "text/x-python",
   "name": "python",
   "nbconvert_exporter": "python",
   "pygments_lexer": "ipython3",
   "version": "3.5.6"
  }
 },
 "nbformat": 4,
 "nbformat_minor": 2
}
